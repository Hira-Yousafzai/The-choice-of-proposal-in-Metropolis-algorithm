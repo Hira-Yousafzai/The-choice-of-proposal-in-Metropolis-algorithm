{
 "cells": [
  {
   "cell_type": "markdown",
   "metadata": {
    "id": "DzyhlPP_BA6J"
   },
   "source": [
    "# The choice of proposal in Metropolis algorithm"
   ]
  },
  {
   "cell_type": "code",
   "execution_count": 1,
   "metadata": {
    "executionInfo": {
     "elapsed": 5,
     "status": "ok",
     "timestamp": 1637449246204,
     "user": {
      "displayName": "noshah noshah",
      "photoUrl": "https://lh3.googleusercontent.com/a-/AOh14GgkTRhrrqPN9HB2tHKYbRJgstsa7FDBTuxCC8HTBQ=s64",
      "userId": "16058168177383914094"
     },
     "user_tz": 360
    },
    "id": "03OCItQNBA6L"
   },
   "outputs": [],
   "source": [
    "import numpy as np\n",
    "import matplotlib.pyplot as plt\n",
    "import pandas as pd\n",
    "from scipy.optimize import curve_fit\n",
    "%config InlineBackend.figure_format='retina'"
   ]
  },
  {
   "cell_type": "code",
   "execution_count": 2,
   "metadata": {},
   "outputs": [],
   "source": [
    "plt.rcParams['text.usetex'] = True\n",
    "plt.rcParams['xtick.direction'] = 'in'\n",
    "plt.rcParams['ytick.direction'] = 'in'"
   ]
  },
  {
   "cell_type": "markdown",
   "metadata": {
    "id": "IE8Ck5Dqedz0"
   },
   "source": [
    "Here we will sample the $N$ dimensional distribution,\n",
    "\n",
    "$$\n",
    "f_\\hat{x}(x)=Cexp(-\\sum_{i=1}^N x_i^4 +\\sum_{i=1}^{N-1}x_i x_{i+1}).\n",
    "$$\n",
    "\n",
    "This will be done in two ways:\n",
    "- Each $x_i$ propsed uniformly from the interval $(x_i-1,x_i+1)$ \n",
    "- Only one $x_i$ is randomly chosen.\n",
    "\n",
    "The task is to see, how the acceptance probability depends on the number of dimensions $N$."
   ]
  },
  {
   "cell_type": "markdown",
   "metadata": {},
   "source": [
    "## Each $x_i$ propsed uniformly from the interval $(x_i-1,x_i+1)$ "
   ]
  },
  {
   "cell_type": "code",
   "execution_count": 44,
   "metadata": {
    "executionInfo": {
     "elapsed": 106,
     "status": "ok",
     "timestamp": 1637449298401,
     "user": {
      "displayName": "noshah noshah",
      "photoUrl": "https://lh3.googleusercontent.com/a-/AOh14GgkTRhrrqPN9HB2tHKYbRJgstsa7FDBTuxCC8HTBQ=s64",
      "userId": "16058168177383914094"
     },
     "user_tz": 360
    },
    "id": "bczO9Ku-F8HR"
   },
   "outputs": [],
   "source": [
    "def f(x,N):\n",
    "    sum=0\n",
    "    num=0\n",
    "    for i in range(0,N):\n",
    "      num+=x[i]**4\n",
    "    for j in range (0,N-1):\n",
    "      sum+=x[j]*x[j+1]\n",
    "    res=-sum+num\n",
    "    return res"
   ]
  },
  {
   "cell_type": "code",
   "execution_count": 45,
   "metadata": {
    "executionInfo": {
     "elapsed": 128,
     "status": "ok",
     "timestamp": 1637450425842,
     "user": {
      "displayName": "noshah noshah",
      "photoUrl": "https://lh3.googleusercontent.com/a-/AOh14GgkTRhrrqPN9HB2tHKYbRJgstsa7FDBTuxCC8HTBQ=s64",
      "userId": "16058168177383914094"
     },
     "user_tz": 360
    },
    "id": "Y3oK9c-2ftzT"
   },
   "outputs": [],
   "source": [
    "def eachChange(i_state,N):\n",
    "  count=0\n",
    "  s=i_state\n",
    "  q=s.copy()\n",
    "  q=[q[j]+np.random.uniform(-1,1) for j in range(N)]\n",
    "  d0=f(s,N)\n",
    "  d1=f(q,N)\n",
    "  d=d1-d0\n",
    "  y=np.random.uniform()\n",
    "  if y<min(1,np.exp(-d)):\n",
    "    s=q\n",
    "    count+=1\n",
    "  return [s,count]"
   ]
  },
  {
   "cell_type": "code",
   "execution_count": 46,
   "metadata": {
    "executionInfo": {
     "elapsed": 81,
     "status": "ok",
     "timestamp": 1637454637840,
     "user": {
      "displayName": "noshah noshah",
      "photoUrl": "https://lh3.googleusercontent.com/a-/AOh14GgkTRhrrqPN9HB2tHKYbRJgstsa7FDBTuxCC8HTBQ=s64",
      "userId": "16058168177383914094"
     },
     "user_tz": 360
    },
    "id": "DD73GlMhgD-e"
   },
   "outputs": [],
   "source": [
    "def mc(dist,s,N,runs):\n",
    "  c=0\n",
    "  for h in range(runs):\n",
    "    s=dist(s,N)[0]\n",
    "    c=c+dist(s,N)[1]\n",
    "  p=c/runs\n",
    "  sigma=np.sqrt(p*(1-p)/runs)\n",
    "  return [p,sigma]"
   ]
  },
  {
   "cell_type": "code",
   "execution_count": 54,
   "metadata": {
    "executionInfo": {
     "elapsed": 868057,
     "status": "ok",
     "timestamp": 1637457510659,
     "user": {
      "displayName": "noshah noshah",
      "photoUrl": "https://lh3.googleusercontent.com/a-/AOh14GgkTRhrrqPN9HB2tHKYbRJgstsa7FDBTuxCC8HTBQ=s64",
      "userId": "16058168177383914094"
     },
     "user_tz": 360
    },
    "id": "_5hXLlbfgULK"
   },
   "outputs": [],
   "source": [
    "lst=[0,1,2,3,4,5,6,7,8,9,10,20,30,40,50]\n",
    "yt=[]\n",
    "yt_sigma=[]\n",
    "for t in lst:\n",
    "    s=[np.random.uniform(-1,1) for k in range(t)]\n",
    "    yt.append(mc(eachChange,s,t,10**4)[0])\n",
    "    yt_sigma.append(mc(eachChange,s,t,10**4)[1])"
   ]
  },
  {
   "cell_type": "code",
   "execution_count": 55,
   "metadata": {},
   "outputs": [],
   "source": [
    "def func(x, a, b, c):\n",
    "    return a*np.exp(-b * x)+c "
   ]
  },
  {
   "cell_type": "code",
   "execution_count": 56,
   "metadata": {
    "colab": {
     "base_uri": "https://localhost:8080/"
    },
    "executionInfo": {
     "elapsed": 110,
     "status": "ok",
     "timestamp": 1637457799098,
     "user": {
      "displayName": "noshah noshah",
      "photoUrl": "https://lh3.googleusercontent.com/a-/AOh14GgkTRhrrqPN9HB2tHKYbRJgstsa7FDBTuxCC8HTBQ=s64",
      "userId": "16058168177383914094"
     },
     "user_tz": 360
    },
    "id": "8An-H5B-kdQt",
    "outputId": "eab35dc3-f42e-49dc-aaa9-f6a6798727d3"
   },
   "outputs": [
    {
     "data": {
      "text/plain": [
       "array([0.963, 0.276, 0.014])"
      ]
     },
     "execution_count": 56,
     "metadata": {},
     "output_type": "execute_result"
    }
   ],
   "source": [
    "fit1,_=curve_fit(func,lst,yt)\n",
    "np.around(fit1,3)"
   ]
  },
  {
   "cell_type": "code",
   "execution_count": 57,
   "metadata": {
    "colab": {
     "base_uri": "https://localhost:8080/",
     "height": 669
    },
    "executionInfo": {
     "elapsed": 121,
     "status": "ok",
     "timestamp": 1637457830482,
     "user": {
      "displayName": "noshah noshah",
      "photoUrl": "https://lh3.googleusercontent.com/a-/AOh14GgkTRhrrqPN9HB2tHKYbRJgstsa7FDBTuxCC8HTBQ=s64",
      "userId": "16058168177383914094"
     },
     "user_tz": 360
    },
    "id": "LPi8DxU2CppX",
    "outputId": "e8c2418a-5225-4d08-8a66-56135c0c6e90"
   },
   "outputs": [],
   "source": [
    "df3=pd.DataFrame(list(zip(lst,np.around(yt,3),np.around(yt_sigma,3))),columns=['N','Av. probability','sigma'])\n",
    "df3['Fitted value']=np.around([fit1[0]*np.exp(-fit1[1]*n)+ fit1[2] for n in df3['N']],3)\n",
    "df3['Error']=df3['Av. probability']-df3['Fitted value']"
   ]
  },
  {
   "cell_type": "code",
   "execution_count": 61,
   "metadata": {
    "colab": {
     "base_uri": "https://localhost:8080/",
     "height": 319
    },
    "executionInfo": {
     "elapsed": 729,
     "status": "ok",
     "timestamp": 1637457837686,
     "user": {
      "displayName": "noshah noshah",
      "photoUrl": "https://lh3.googleusercontent.com/a-/AOh14GgkTRhrrqPN9HB2tHKYbRJgstsa7FDBTuxCC8HTBQ=s64",
      "userId": "16058168177383914094"
     },
     "user_tz": 360
    },
    "id": "Mc93Z1_bEIMB",
    "outputId": "a7f8c841-da75-46d8-d7d7-fa5dcb8721f0"
   },
   "outputs": [
    {
     "data": {
      "text/plain": [
       "<matplotlib.legend.Legend at 0x136918a10>"
      ]
     },
     "execution_count": 61,
     "metadata": {},
     "output_type": "execute_result"
    },
    {
     "data": {
      "image/png": "[encoded data removed]",
      "text/plain": [
       "<Figure size 432x288 with 1 Axes>"
      ]
     },
     "metadata": {
      "image/png": {
       "height": 272,
       "width": 378
      },
      "needs_background": "light"
     },
     "output_type": "display_data"
    }
   ],
   "source": [
    "plt.plot(df3['N'],df3['Fitted value'],label='Fitted')\n",
    "plt.scatter(df3['N'],df3['Av. probability'])\n",
    "plt.errorbar(df3['N'],df3['Av. probability'],yerr=df3['Error'],fmt='o',label='Simulated with error')\n",
    "plt.title('Average acceptance probability for $10^4$ runs')\n",
    "plt.xlabel('$N$')\n",
    "plt.ylabel('Average acceptance probability')\n",
    "plt.legend()"
   ]
  },
  {
   "cell_type": "markdown",
   "metadata": {},
   "source": [
    "Note that the acceptance probability falls exponentially as the number of dimesnions is increased."
   ]
  },
  {
   "cell_type": "markdown",
   "metadata": {
    "id": "WK05__1DBGT4"
   },
   "source": [
    "## Only one $x_i$ is randomly chosen"
   ]
  },
  {
   "cell_type": "code",
   "execution_count": 62,
   "metadata": {
    "executionInfo": {
     "elapsed": 118,
     "status": "ok",
     "timestamp": 1637455985697,
     "user": {
      "displayName": "noshah noshah",
      "photoUrl": "https://lh3.googleusercontent.com/a-/AOh14GgkTRhrrqPN9HB2tHKYbRJgstsa7FDBTuxCC8HTBQ=s64",
      "userId": "16058168177383914094"
     },
     "user_tz": 360
    },
    "id": "oBFTyCkyt0k5"
   },
   "outputs": [],
   "source": [
    "def oneChange(i_state,N):\n",
    "  count=0\n",
    "  s=i_state\n",
    "  q=s.copy()\n",
    "  q[np.random.randint(0,N)]=q[np.random.randint(0,N)]+np.random.uniform(-1,1)\n",
    "  d0=f(s,N)\n",
    "  d1=f(q,N)\n",
    "  d=d1-d0\n",
    "  y=np.random.uniform()\n",
    "  if y<min(1,np.exp(-d)):\n",
    "    s=q\n",
    "    count+=1\n",
    "  return [s,count]"
   ]
  },
  {
   "cell_type": "code",
   "execution_count": 63,
   "metadata": {
    "executionInfo": {
     "elapsed": 302744,
     "status": "ok",
     "timestamp": 1637458297588,
     "user": {
      "displayName": "noshah noshah",
      "photoUrl": "https://lh3.googleusercontent.com/a-/AOh14GgkTRhrrqPN9HB2tHKYbRJgstsa7FDBTuxCC8HTBQ=s64",
      "userId": "16058168177383914094"
     },
     "user_tz": 360
    },
    "id": "Jy9wmZobzjb7"
   },
   "outputs": [],
   "source": [
    "lst=[1,2,3,4,5,6,7,8,9,10,20,30,40,50]\n",
    "y4=[]\n",
    "y4_sigma=[]\n",
    "for t in lst:\n",
    "    s=[np.random.uniform(-1,1) for k in range(t)]\n",
    "    y4.append(mc(oneChange,s,t,10**4)[0])\n",
    "    y4_sigma.append(mc(oneChange,s,t,10**4)[1])"
   ]
  },
  {
   "cell_type": "code",
   "execution_count": 64,
   "metadata": {
    "executionInfo": {
     "elapsed": 120,
     "status": "ok",
     "timestamp": 1637458327119,
     "user": {
      "displayName": "noshah noshah",
      "photoUrl": "https://lh3.googleusercontent.com/a-/AOh14GgkTRhrrqPN9HB2tHKYbRJgstsa7FDBTuxCC8HTBQ=s64",
      "userId": "16058168177383914094"
     },
     "user_tz": 360
    },
    "id": "D-0QuLhz0iX-"
   },
   "outputs": [],
   "source": [
    "def func1(x, m, c):\n",
    "    return m *x +c "
   ]
  },
  {
   "cell_type": "code",
   "execution_count": 38,
   "metadata": {
    "colab": {
     "base_uri": "https://localhost:8080/"
    },
    "executionInfo": {
     "elapsed": 116,
     "status": "ok",
     "timestamp": 1637458332540,
     "user": {
      "displayName": "noshah noshah",
      "photoUrl": "https://lh3.googleusercontent.com/a-/AOh14GgkTRhrrqPN9HB2tHKYbRJgstsa7FDBTuxCC8HTBQ=s64",
      "userId": "16058168177383914094"
     },
     "user_tz": 360
    },
    "id": "KmKSgonCkCJc",
    "outputId": "35a554e5-cb4f-49b7-8b29-85d7927ad44e"
   },
   "outputs": [
    {
     "data": {
      "text/plain": [
       "array([-0.001,  0.705])"
      ]
     },
     "execution_count": 38,
     "metadata": {},
     "output_type": "execute_result"
    }
   ],
   "source": [
    "fit2,_ = curve_fit(func1,lst,y4)\n",
    "np.around(fit2,3)"
   ]
  },
  {
   "cell_type": "code",
   "execution_count": 65,
   "metadata": {
    "colab": {
     "base_uri": "https://localhost:8080/",
     "height": 638
    },
    "executionInfo": {
     "elapsed": 104,
     "status": "ok",
     "timestamp": 1637458488700,
     "user": {
      "displayName": "noshah noshah",
      "photoUrl": "https://lh3.googleusercontent.com/a-/AOh14GgkTRhrrqPN9HB2tHKYbRJgstsa7FDBTuxCC8HTBQ=s64",
      "userId": "16058168177383914094"
     },
     "user_tz": 360
    },
    "id": "TDCDlOc6C9Mc",
    "outputId": "f350eea9-8e11-4591-83f4-3f756bd85d8f"
   },
   "outputs": [],
   "source": [
    "df4=pd.DataFrame(list(zip(lst,np.around(y4,3),np.around(y4_sigma,3))),columns=['N','Av. probability','sigma'])\n",
    "df4['Fitted value']=np.around([fit2[0]*n+ fit2[1] for n in df4['N']],3)\n",
    "df4['Error']=df4['Av. probability']-df4['Fitted value']"
   ]
  },
  {
   "cell_type": "code",
   "execution_count": 66,
   "metadata": {
    "colab": {
     "base_uri": "https://localhost:8080/",
     "height": 319
    },
    "executionInfo": {
     "elapsed": 613,
     "status": "ok",
     "timestamp": 1637458566153,
     "user": {
      "displayName": "noshah noshah",
      "photoUrl": "https://lh3.googleusercontent.com/a-/AOh14GgkTRhrrqPN9HB2tHKYbRJgstsa7FDBTuxCC8HTBQ=s64",
      "userId": "16058168177383914094"
     },
     "user_tz": 360
    },
    "id": "uzOngz3zER9U",
    "outputId": "6f61d4d1-591d-4f9c-8690-f3f15af66729"
   },
   "outputs": [
    {
     "data": {
      "text/plain": [
       "<matplotlib.legend.Legend at 0x136d2d810>"
      ]
     },
     "execution_count": 66,
     "metadata": {},
     "output_type": "execute_result"
    },
    {
     "data": {
      "image/png": "[encoded data removed]",
      "text/plain": [
       "<Figure size 432x288 with 1 Axes>"
      ]
     },
     "metadata": {
      "image/png": {
       "height": 272,
       "width": 378
      },
      "needs_background": "light"
     },
     "output_type": "display_data"
    }
   ],
   "source": [
    "plt.plot(df4['N'],df4['Fitted value'],label='Fitted')\n",
    "plt.scatter(df4['N'],df4['Av. probability'])\n",
    "plt.errorbar(df4['N'],df4['Av. probability'],yerr=df4['Error'],fmt='o',label='Simulated with error')\n",
    "plt.title('Average acceptance probability for $10^5$ runs')\n",
    "plt.xlabel('$N$')\n",
    "plt.ylabel('Average acceptance probability')\n",
    "plt.ylim(0,1)\n",
    "plt.legend()"
   ]
  },
  {
   "cell_type": "markdown",
   "metadata": {},
   "source": [
    "For this case the acceptance probability stays around a constant value."
   ]
  },
  {
   "cell_type": "markdown",
   "metadata": {
    "id": "mtPclD8JIGnC"
   },
   "source": [
    "***"
   ]
  }
 ],
 "metadata": {
  "colab": {
   "collapsed_sections": [],
   "name": "Copy of HW4.ipynb",
   "provenance": [
    {
     "file_id": "1rheYj2WWHo0npz5ZDKHkG3s85XJRopQj",
     "timestamp": 1637459390374
    }
   ]
  },
  "kernelspec": {
   "display_name": "Python 3",
   "language": "python",
   "name": "python3"
  },
  "language_info": {
   "codemirror_mode": {
    "name": "ipython",
    "version": 3
   },
   "file_extension": ".py",
   "mimetype": "text/x-python",
   "name": "python",
   "nbconvert_exporter": "python",
   "pygments_lexer": "ipython3",
   "version": "3.7.6"
  }
 },
 "nbformat": 4,
 "nbformat_minor": 4
}
